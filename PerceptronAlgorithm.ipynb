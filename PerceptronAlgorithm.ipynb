{
 "cells": [
  {
   "cell_type": "code",
   "execution_count": 1,
   "metadata": {},
   "outputs": [
    {
     "data": {
      "text/plain": [
       "<matplotlib.legend.Legend at 0x1f1a45e9c48>"
      ]
     },
     "execution_count": 1,
     "metadata": {},
     "output_type": "execute_result"
    },
    {
     "data": {
      "image/png": "[encoded data removed]",
      "text/plain": [
       "<Figure size 432x288 with 1 Axes>"
      ]
     },
     "metadata": {
      "needs_background": "light"
     },
     "output_type": "display_data"
    }
   ],
   "source": [
    "import matplotlib.pyplot as plt\n",
    "\n",
    "import numpy as np\n",
    "\n",
    "a=np.loadtxt('train-perceptron.txt') \n",
    "#print(a)\n",
    "\n",
    "#### task 1\n",
    "class1=[]\n",
    "class2=[]\n",
    "for i in a:\n",
    "    if i[2]==1:\n",
    "        class1.append(i)\n",
    "    else:\n",
    "        class2.append(i)\n",
    "class1=np.array(class1)\n",
    "class2=np.array(class2)\n",
    "\n",
    "x1=class1[:,0]\n",
    "y1=class1[:,1]\n",
    "x2=class2[:,0]\n",
    "y2=class2[:,1]\n",
    "\n",
    "fig,ax=plt.subplots()\n",
    "plt.title(\"Output 1\")\n",
    "ax.scatter(x1, y1, marker='o',color='b',label='Class 1')\n",
    "ax.scatter(x2, y2, marker='*',color='g',label='Class 2')\n",
    "ax.legend()\n",
    "\n",
    "\n",
    "\n",
    "\n"
   ]
  },
  {
   "cell_type": "code",
   "execution_count": 2,
   "metadata": {},
   "outputs": [
    {
     "name": "stdout",
     "output_type": "stream",
     "text": [
      "Output 2:\n",
      "[[ 1.    1.    1.    1.    1.    1.  ]\n",
      " [ 1.    1.   -1.    1.   -1.    1.  ]\n",
      " [16.   25.   20.    4.    5.    1.  ]\n",
      " [-4.   -6.25 -5.   -2.   -2.5  -1.  ]\n",
      " [ 0.   -4.    0.    0.   -2.   -1.  ]\n",
      " [-4.   -9.   -6.   -2.   -3.   -1.  ]]\n"
     ]
    }
   ],
   "source": [
    "### task 2\n",
    "def phii(x1,x2):\n",
    "    return np.array([x1*x1, x2*x2, x1*x2, x1, x2, 1])\n",
    "\n",
    "y=[]\n",
    "# phii func of class 1\n",
    "for i in range(len(x1)):\n",
    "    y.append(phii(x1[i],y1[i]))\n",
    "# phii funcof class 2\n",
    "for i in range(len(x2)):\n",
    "    temp = phii(x2[i],y2[i])\n",
    "    #negating class 2 for normalization\n",
    "    y.append(np.dot(temp,-1))\n",
    "    \n",
    "y=np.array(y)\n",
    "print(\"Output 2:\")\n",
    "print(y)\n"
   ]
  },
  {
   "cell_type": "code",
   "execution_count": 3,
   "metadata": {},
   "outputs": [],
   "source": [
    "### task 3\n",
    "\n",
    "def Batch( weight,alpha):\n",
    "    i=0\n",
    "    while(i<200):\n",
    "        flag =0; #initilally all classified\n",
    "        sum = np.zeros_like(y[0])\n",
    "        wy=[]\n",
    "        for j in range(len(y)):\n",
    "            wy.append(np.dot(weight,y[j])) #multiplication of wTy\n",
    "            if(wy[j] <= 0):\n",
    "                flag=1 #misclassified detected\n",
    "                sum = sum + y[j] #summation of misclassified data\n",
    "                 \n",
    "        weight = weight + (alpha * sum) \n",
    "        if(flag == 0):\n",
    "               return i+1\n",
    "        i=i+1\n",
    "    return i+1 #if iteration exists 200 , it will return 200   \n",
    "        "
   ]
  },
  {
   "cell_type": "code",
   "execution_count": 4,
   "metadata": {},
   "outputs": [],
   "source": [
    "def Single( weight,alpha):\n",
    "    i=0\n",
    "    while(i<200):\n",
    "        flag =0; #initilally all classified\n",
    "        \n",
    "        wy=[]\n",
    "        for j in range(len(y)):\n",
    "            wy.append(np.dot(weight,y[j])) #multiplication of wTy\n",
    "            if(wy[j] <= 0):\n",
    "                flag=1 #misclassified detected\n",
    "                sum = np.zeros_like(y[0])\n",
    "                sum = sum + y[j] #summation of misclassified data\n",
    "                weight = weight + (alpha * sum)  \n",
    "        \n",
    "        if(flag == 0):\n",
    "               return i+1\n",
    "        i=i+1\n",
    "    return i+1 #if iteration exists 200 , it will return 200   \n",
    "        "
   ]
  },
  {
   "cell_type": "code",
   "execution_count": 7,
   "metadata": {},
   "outputs": [
    {
     "name": "stdout",
     "output_type": "stream",
     "text": [
      "Weight- All Zero\n",
      "Alpha(Learning Rate)\tOne at a Time\tMany at a Time\n",
      "\t0.1\t\t94\t\t105\n",
      "\t0.2\t\t94\t\t105\n",
      "\t0.3\t\t94\t\t92\n",
      "\t0.4\t\t94\t\t105\n",
      "\t0.5\t\t94\t\t92\n",
      "\t0.6\t\t94\t\t105\n",
      "\t0.7\t\t94\t\t105\n",
      "\t0.8\t\t94\t\t105\n",
      "\t0.9\t\t94\t\t105\n",
      "\t1.0\t\t94\t\t92\n"
     ]
    },
    {
     "data": {
      "image/png": "[encoded data removed]",
      "text/plain": [
       "<Figure size 432x288 with 1 Axes>"
      ]
     },
     "metadata": {
      "needs_background": "light"
     },
     "output_type": "display_data"
    }
   ],
   "source": [
    "### task 4 \n",
    "####### weight - All Zero\n",
    "w=np.zeros_like(y[0])\n",
    "one=[]\n",
    "many=[]\n",
    "alpha_arr =[]\n",
    "print(\"Weight- All Zero\")\n",
    "print(\"Alpha(Learning Rate)\\tOne at a Time\\tMany at a Time\")\n",
    "\n",
    "for alpha in np.arange(0.1,1.1,0.1):\n",
    "    alpha_arr.append(alpha)\n",
    "    one.append(Single(w,alpha))\n",
    "    many.append(Batch(w,alpha))\n",
    "    print(\"\\t{:.1f}\".format(alpha) + \"\\t\\t\" + str(Single(w,alpha))+ \"\\t\\t\" + str(Batch(w,alpha)))\n",
    "    \n",
    "    \n",
    "### bar-chart\n",
    "barWidth = 0.4\n",
    "br1 = np.arange(10) \n",
    "br2 = [x + barWidth for x in br1] \n",
    "\n",
    "# Make the plot \n",
    "plt.bar(br1, one, width = barWidth,\n",
    "        edgecolor ='grey', label ='One at a time') \n",
    "plt.bar(br2, many, width = barWidth,\n",
    "        edgecolor ='grey', label ='Many at a time') \n",
    "  \n",
    "# Adding Xticks  \n",
    "plt.title('Perceptron comparision')\n",
    "plt.xlabel('Learning Rate', fontweight ='bold') \n",
    "plt.ylabel('No of iterations', fontweight ='bold') \n",
    "plt.xticks([r + (barWidth/2) for r in range(10)], [0.1,0.2,0.3,0.4,0.5,0.6,0.7,0.8,0.9,1.0]) \n",
    "plt.ylim(0, 140)\n",
    "plt.legend()\n",
    "plt.show() \n"
   ]
  },
  {
   "cell_type": "code",
   "execution_count": 14,
   "metadata": {},
   "outputs": [
    {
     "name": "stdout",
     "output_type": "stream",
     "text": [
      "Weight - All One\n",
      "Alpha(Learning Rate)\tOne at a Time\tMany at a Time\n",
      "\t0.1\t\t6\t\t102\n",
      "\t0.2\t\t92\t\t104\n",
      "\t0.3\t\t104\t\t91\n",
      "\t0.4\t\t106\t\t116\n",
      "\t0.5\t\t93\t\t105\n",
      "\t0.6\t\t93\t\t114\n",
      "\t0.7\t\t108\t\t91\n",
      "\t0.8\t\t115\t\t91\n",
      "\t0.9\t\t94\t\t105\n",
      "\t1.0\t\t94\t\t93\n"
     ]
    },
    {
     "data": {
      "image/png": "[encoded data removed]",
      "text/plain": [
       "<Figure size 432x288 with 1 Axes>"
      ]
     },
     "metadata": {
      "needs_background": "light"
     },
     "output_type": "display_data"
    }
   ],
   "source": [
    "####### weight - All one   \n",
    "w1=np.ones_like(y[0])\n",
    "one=[]\n",
    "many=[]\n",
    "alpha_arr =[]\n",
    "print(\"Weight - All One\")\n",
    "print(\"Alpha(Learning Rate)\\tOne at a Time\\tMany at a Time\")\n",
    "for alpha in np.arange(0.1,1.1,0.1):\n",
    "    alpha_arr.append(alpha)\n",
    "    one.append(Single(w1,alpha))\n",
    "    many.append(Batch(w1,alpha))\n",
    "    print(\"\\t{:.1f}\".format(alpha) + \"\\t\\t\" + str(Single(w1,alpha))+ \"\\t\\t\" + str(Batch(w1,alpha)))\n",
    "\n",
    "\n",
    "### bar-chart\n",
    "barWidth = 0.4\n",
    "br1 = np.arange(10) \n",
    "br2 = [x + barWidth for x in br1] \n",
    "\n",
    "# Make the plot \n",
    "plt.bar(br1, one, width = barWidth, \n",
    "        edgecolor ='grey', label ='One at a time') \n",
    "plt.bar(br2, many, width = barWidth, \n",
    "        edgecolor ='grey', label ='Many at a time') \n",
    "  \n",
    "# Adding Xticks \n",
    "plt.title('Perceptron comparision')\n",
    "plt.xlabel('Learning Rate', fontweight ='bold') \n",
    "plt.ylabel('No of iterations', fontweight ='bold') \n",
    "plt.xticks([r + (barWidth/2) for r in range(10)], [0.1,0.2,0.3,0.4,0.5,0.6,0.7,0.8,0.9,1.0]) \n",
    "plt.ylim(0, 140)\n",
    "plt.legend()\n",
    "plt.show() "
   ]
  },
  {
   "cell_type": "code",
   "execution_count": 16,
   "metadata": {},
   "outputs": [
    {
     "name": "stdout",
     "output_type": "stream",
     "text": [
      "[0.5488135  0.71518937 0.60276338 0.54488318 0.4236548  0.64589411]\n",
      "Weight - Random\n",
      "Alpha(Learning Rate)\tOne at a Time\tMany at a Time\n",
      "\t0.1\t\t105\t\t98\n",
      "\t0.2\t\t109\t\t104\n",
      "\t0.3\t\t93\t\t105\n",
      "\t0.4\t\t108\t\t117\n",
      "\t0.5\t\t96\t\t106\n",
      "\t0.6\t\t94\t\t106\n",
      "\t0.7\t\t97\t\t101\n",
      "\t0.8\t\t84\t\t105\n",
      "\t0.9\t\t94\t\t122\n",
      "\t1.0\t\t105\t\t88\n"
     ]
    },
    {
     "data": {
      "image/png": "[encoded data removed]",
      "text/plain": [
       "<Figure size 432x288 with 1 Axes>"
      ]
     },
     "metadata": {
      "needs_background": "light"
     },
     "output_type": "display_data"
    }
   ],
   "source": [
    "np.random.seed(0)\n",
    "# weight vector Random\n",
    "w2 = np.random.rand( len(y[0]))\n",
    "print(w2)\n",
    "one=[]\n",
    "many=[]\n",
    "alpha_arr =[]\n",
    "\n",
    "print(\"Weight - Random\")\n",
    "print(\"Alpha(Learning Rate)\\tOne at a Time\\tMany at a Time\")\n",
    "\n",
    "for alpha in np.arange(0.1,1.1,0.1):\n",
    "    alpha_arr.append(alpha)\n",
    "    one.append(Single(w2,alpha))\n",
    "    many.append(Batch(w2,alpha))\n",
    "    print(\"\\t{:.1f}\".format(alpha) + \"\\t\\t\" + str(Single(w2,alpha))+ \"\\t\\t\" + str(Batch(w2,alpha)))\n",
    "\n",
    "### bar-chart\n",
    "barWidth = 0.4\n",
    "br1 = np.arange(10) \n",
    "br2 = [x + barWidth for x in br1] \n",
    "\n",
    "# Make the plot \n",
    "plt.bar(br1, one, width = barWidth, \n",
    "        edgecolor ='grey', label ='One at a time') \n",
    "plt.bar(br2, many, width = barWidth, \n",
    "        edgecolor ='grey', label ='Many at a time') \n",
    "  \n",
    "# Adding Xticks \n",
    "plt.title('Perceptron comparision')\n",
    "plt.xlabel('Learning Rate', fontweight ='bold') \n",
    "plt.ylabel('No of iterations', fontweight ='bold') \n",
    "plt.xticks([r + (barWidth/2) for r in range(10)], [0.1,0.2,0.3,0.4,0.5,0.6,0.7,0.8,0.9,1.0]) \n",
    "plt.ylim(0, 140)\n",
    "plt.legend()\n",
    "plt.show()  "
   ]
  },
  {
   "cell_type": "code",
   "execution_count": null,
   "metadata": {},
   "outputs": [],
   "source": []
  },
  {
   "cell_type": "code",
   "execution_count": null,
   "metadata": {},
   "outputs": [],
   "source": []
  }
 ],
 "metadata": {
  "kernelspec": {
   "display_name": "Python 3",
   "language": "python",
   "name": "python3"
  },
  "language_info": {
   "codemirror_mode": {
    "name": "ipython",
    "version": 3
   },
   "file_extension": ".py",
   "mimetype": "text/x-python",
   "name": "python",
   "nbconvert_exporter": "python",
   "pygments_lexer": "ipython3",
   "version": "3.7.6"
  }
 },
 "nbformat": 4,
 "nbformat_minor": 4
}
