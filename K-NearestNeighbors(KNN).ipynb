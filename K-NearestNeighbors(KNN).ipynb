{
 "cells": [
  {
   "cell_type": "code",
   "execution_count": 11,
   "metadata": {},
   "outputs": [
    {
     "data": {
      "text/plain": [
       "<matplotlib.legend.Legend at 0x1ef1de3f748>"
      ]
     },
     "execution_count": 11,
     "metadata": {},
     "output_type": "execute_result"
    },
    {
     "data": {
      "image/png": "[encoded data removed]",
      "text/plain": [
       "<Figure size 432x288 with 1 Axes>"
      ]
     },
     "metadata": {
      "needs_background": "light"
     },
     "output_type": "display_data"
    }
   ],
   "source": [
    "import numpy as np\n",
    "import matplotlib.pyplot as plt\n",
    "from math import sqrt\n",
    "\n",
    "a=np.loadtxt('train_knn.txt',delimiter=\",\") \n",
    "b=np.loadtxt('test_knn.txt',delimiter=\",\")\n",
    "#### task 1\n",
    "class1=[]\n",
    "class2=[]\n",
    "for i in a:\n",
    "    if i[2]==1:\n",
    "        class1.append(i)\n",
    "    else:\n",
    "        class2.append(i)\n",
    "class1=np.array(class1)\n",
    "class2=np.array(class2)\n",
    "\n",
    "x1=class1[:,0] # 0 no col from every row\n",
    "y1=class1[:,1] #1 no col from every row\n",
    "x2=class2[:,0]\n",
    "y2=class2[:,1]\n",
    "\n",
    "fig,ax=plt.subplots()\n",
    "plt.title(\"Output 1\")\n",
    "ax.scatter(x1, y1, marker='o',color='b',label='Class 1')\n",
    "ax.scatter(x2, y2, marker='*',color='g',label='Class 2')\n",
    "ax.legend()"
   ]
  },
  {
   "cell_type": "code",
   "execution_count": 21,
   "metadata": {},
   "outputs": [
    {
     "name": "stdout",
     "output_type": "stream",
     "text": [
      "Enter K [odd number]:3\n",
      "Test Point: 3.0,7.0\n",
      "Distance 1: 3\t Class:1\n",
      "Distance 2: 3\t Class:2\n",
      "Distance 3: 3\t Class:1\n",
      "Predicted Class 1\n",
      "\n",
      "\n",
      "Test Point: 7.0,7.0\n",
      "Distance 1: 0\t Class:1\n",
      "Distance 2: 1\t Class:1\n",
      "Distance 3: 1\t Class:1\n",
      "Predicted Class 1\n",
      "\n",
      "\n",
      "Test Point: 4.0,3.0\n",
      "Distance 1: 0\t Class:2\n",
      "Distance 2: 1\t Class:2\n",
      "Distance 3: 1\t Class:2\n",
      "Predicted Class 2\n",
      "\n",
      "\n",
      "Test Point: 2.0,8.0\n",
      "Distance 1: 4\t Class:1\n",
      "Distance 2: 4\t Class:2\n",
      "Distance 3: 4\t Class:2\n",
      "Predicted Class 2\n",
      "\n",
      "\n",
      "Test Point: 3.0,5.0\n",
      "Distance 1: 1\t Class:2\n",
      "Distance 2: 1\t Class:2\n",
      "Distance 3: 2\t Class:2\n",
      "Predicted Class 2\n",
      "\n",
      "\n",
      "Test Point: 1.0,2.0\n",
      "Distance 1: 1\t Class:2\n",
      "Distance 2: 2\t Class:2\n",
      "Distance 3: 2\t Class:2\n",
      "Predicted Class 2\n",
      "\n",
      "\n",
      "Test Point: 4.0,8.0\n",
      "Distance 1: 2\t Class:1\n",
      "Distance 2: 2\t Class:1\n",
      "Distance 3: 3\t Class:1\n",
      "Predicted Class 1\n",
      "\n",
      "\n",
      "Test Point: 8.0,3.0\n",
      "Distance 1: 1\t Class:1\n",
      "Distance 2: 2\t Class:1\n",
      "Distance 3: 2\t Class:1\n",
      "Predicted Class 1\n",
      "\n",
      "\n",
      "Test Point: 8.0,4.0\n",
      "Distance 1: 1\t Class:1\n",
      "Distance 2: 1\t Class:1\n",
      "Distance 3: 2\t Class:1\n",
      "Predicted Class 1\n",
      "\n",
      "\n"
     ]
    }
   ],
   "source": [
    "#Implementing KNN algorithm\n",
    "out=open('prediction.txt','a')\n",
    "\n",
    "def dist(x,y):\n",
    "    return sqrt((x[0]-y[0])**2+(x[1]-y[1])**2)\n",
    "\n",
    "\n",
    "def k_nearest_neighbours(k,point):\n",
    "    out.write(\"\\nTest Point: {},{}\".format(point[0],point[1]))\n",
    "    print(\"Test Point: \"+ str(point[0]) + \",\"+ str(point[1]))\n",
    "    \n",
    "    cnt1=0\n",
    "    cnt2=0\n",
    "    knn=[]  \n",
    "    \n",
    "    #step2. calculating distance between test point and each train points\n",
    "    for item in a:\n",
    "        dis=dist(point,item)\n",
    "        knn.append((dis,item[2]))\n",
    "        \n",
    "    #step3. sorting distance and taking k nearest neighbours    \n",
    "    knn.sort(key=lambda x:x[0])\n",
    "    \n",
    "    \n",
    "    for i in range(k):  \n",
    "        ii=i+1\n",
    "        #step4. gathering categories of the neighbours\n",
    "        out.write(\"\\nDistance {}: {:.2f} \\t Class:{}\".format(ii, knn[i][0], knn[i][1]))\n",
    "        print(\"Distance \" + str(ii) +\": \" + str(int(knn[i][0])) + \"\\t Class:\" + str(int(knn[i][1]))) \n",
    "        \n",
    "        #step 5. tking majority of the category\n",
    "        if(knn[i][1]==1):\n",
    "            cnt1+=1\n",
    "        else:\n",
    "            cnt2+=1\n",
    "\n",
    "    if(cnt1>=cnt2):\n",
    "        out.write(\"\\nPredicted Class {}\".format(1))\n",
    "        print(\"Predicted Class 1\")\n",
    "    else:\n",
    "        out.write(\"\\nPredicted Class {}\".format(2))\n",
    "        print(\"Predicted Class 2\")\n",
    "    print(\"\\n\")\n",
    "    \n",
    "#step 1. Determining parameter    \n",
    "k=int(input('Enter K [odd number]:'))\n",
    "out.write(\"\\nk= {}\".format(k))\n",
    "for point in b:\n",
    "    k_nearest_neighbours(k,point)\n",
    "\n",
    "out.close()"
   ]
  },
  {
   "cell_type": "code",
   "execution_count": null,
   "metadata": {},
   "outputs": [],
   "source": []
  }
 ],
 "metadata": {
  "kernelspec": {
   "display_name": "Python 3",
   "language": "python",
   "name": "python3"
  },
  "language_info": {
   "codemirror_mode": {
    "name": "ipython",
    "version": 3
   },
   "file_extension": ".py",
   "mimetype": "text/x-python",
   "name": "python",
   "nbconvert_exporter": "python",
   "pygments_lexer": "ipython3",
   "version": "3.7.6"
  }
 },
 "nbformat": 4,
 "nbformat_minor": 4
}
